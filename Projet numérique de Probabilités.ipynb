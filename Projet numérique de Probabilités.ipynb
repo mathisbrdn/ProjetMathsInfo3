{
 "cells": [
  {
   "cell_type": "markdown",
   "metadata": {},
   "source": [
    "# Rendu Projet Maths/Info III \n",
    "#### Clément Desroches & Mathis Bourdin\n",
    "\n",
    "Etant donné la présence du notebook à remplir, il a été choisi de suivre celui-ci pour le rendu de ce projet.\n",
    "La démarche ne sera alors pas globale comme il a été fait pour les précédents projets. Nous répondrons simplement question par question."
   ]
  },
  {
   "cell_type": "markdown",
   "metadata": {},
   "source": [
    "# Enoncé du problème\n",
    "\n",
    "L'objectif de ce projet est d'estimer la longueur de câble sous-marin nécessaire pour relier deux côtes $A$ et $B$  en utilisant des simulations conditionnelles.\n",
    "\n",
    "\n",
    "Le câble reposera sur le fond marin dont la profondeur est inconnue.\n",
    "Le segment $[AB]$ est discrétisé par une séquence de (N+1) points. On pose $x_0=A$ et pour $i=1,\\dots,N$, $$x_i=x_0+i\\Delta$$ où $$\\Delta = \\frac{AB}{N}$$ de telle sorte que $x_N=B$.\n",
    "On note $z(x)$ la profondeur du fond marin au point $x$ de telle sorte \n",
    "qu'on pourra estimer la longueur totale de câble nécessaire par la somme \n",
    "des longueurs sur les segments de la discrétisation :\n",
    "\n",
    "$$l=\\sum_{i=1}^N\\sqrt{\\Delta^2+(z(x_i)-z(x_{i-1}))^2}.$$\n",
    "\n",
    "Enfin, notons que l'on dispose d'un ensemble de $n$ observations de la \n",
    "profondeur que l'on supposera situées sur des points de discrétisation $z(x_{j_1}),\\dots,z(x_{j_n})$.\n",
    "\n",
    "\n",
    "On adopte un modèle probabiliste pour la profondeur. On suppose que le vecteur des \n",
    "profondeurs sur les points de discrétisation \n",
    "$\\mathbf{z}=(z(x_0),\\dots,z(x_N))$ est la réalisation\n",
    "d'un vecteur aléatoire gaussien $\\mathbf{Z}=(Z(x_0),\\dots,Z(x_N))$ \n",
    "dont le vecteur d'espérance ne contient qu'une seule valeur $\\mu$ \n",
    "répétée $N+1$ fois et dont la matrice de covariance $\\Sigma$ a pour termes $\\sigma_{ij}$\n",
    "définis par $\\sigma_{ij}=C(|x_i-x_j|)$ où $C$ est une\n",
    "fonction décroissante, traduisant le fait que deux points \n",
    "géographiquement proches ont tendance à avoir des profondeurs plus similaires que deux points éloignés.\n",
    "\n",
    "On supposera que la matrice de covariance ainsi \n",
    "générée est définie-positive (en fait, $C$ sera choisie parmi les fonctions qui, \n",
    "appliquées aux termes d'une matrice de distance, produisent des matrices définie-positives). \n",
    "\n",
    "Si on note $L$ la variable aléatoire donnant la longueur de cable nécessaire : \n",
    "$$L=\\sum_{i=1}^N\\sqrt{\\Delta^2+(Z(x_i)-Z(x_{i-1}))^2},$$\n",
    "un bon estimateur de $L$ est fourni par l'espérance conditionnelle \n",
    "\n",
    "$$L^\\star=E[L|Z(x_{j_1})=z(x_{j_1}),\\dots,Z(x_{j_n})=z(x_{j_n})].$$\n",
    "                                                                              \n",
    "Cependant, cette quantité est difficilement accessible par le calcul. \n",
    "On va donc avoir recours à des\n",
    "simulations conditionnelles. C'est-à-dire que l'on va simuler \n",
    "un nombre $K$ de réalités (disons des réalisations du modèle \n",
    "probabiliste choisi), et sur chacune d'entre elle, \n",
    "la quantité de câble nécessaire sera évaluée. \n",
    "On disposera ainsi d'un échantillon $l_{(1)},\\dots,l_{(K)}$ de \n",
    "longueures simulées. Puis on approchera l'espérance conditionnelle  par \n",
    "$$L^\\star=\\sum_{k=1}^K l_{(k)}.$$\n",
    "\n",
    "L'objectif de ce projet est donc d'écrire un code permettant \n",
    "d'effectuer cette simulation conditionnelle, puis de l'appliquer \n",
    "au jeu de données fourni et d'en déduire une estimation de la longueur de câble nécessaire."
   ]
  },
  {
   "cell_type": "markdown",
   "metadata": {},
   "source": [
    "# Questions théoriques\n",
    "\n",
    "1. Quel théorème du cours nous autorise-t-il à estimer l'espérance conditionnelle par la moyenne empirique de simulations conditionnelles ?\n",
    "\n",
    "2. Rappeler la loi conditionnelle du vecteur des composantes de $\\mathbf{Z}$ correspondant aux points de discrétisation\n",
    "sans observation, connaissant les valeurs prises par les composantes aux sites d'observation.\n",
    "\n",
    "3. Si $\\mathbf{Y}=(Y_1,\\dots,Y_p)$ est un vecteur de composantes gaussiennes indépendantes, toutes d'espérance nulle et de variance 1, \n",
    "quelle est la loi du vecteur $\\mathbf{Z}=m+R\\mathbf{Y}$ où $R$ est une matrice $p\\times p$ et $m$ est un vecteur de taille $p$ ?\n",
    "\n",
    "4. En déduire un algorithme de simulation conditionnelle."
   ]
  },
  {
   "cell_type": "markdown",
   "metadata": {},
   "source": [
    "##### 1.\n",
    "Le théorème qui permet d'estimer l’espérance conditionnelle par la moyenne empirique de simulations conditionnelles est la loi faible des grands nombres. D'après cette loi, en choisissant un K assez grand, La moyenne empirique des simulations va converger vers l'espérance conditionnelle.\n",
    "\n",
    "\n",
    "##### 2.\n",
    "Le vecteur $Z$ est composé des gaussiennes rapportant les points non observés connaissant les $n-p$ observations.  La loi de probabilité des $p$ premières valeurs observées sachant les $n-p$ observées $(V=v)$ suit la loi de densité suivante : \n",
    "$$\n",
    "f_{Z | V=v}(y)=\\frac{1}{(2 \\pi)^{k / 2} \\sqrt{\\operatorname{det}\\left(C S_{Z}\\right)}}\\left.\\exp \\left(-\\frac{1}{2}(z-\\psi(v))^{t} C S_{Z}^{-1}(z-\\psi(v))\\right)\\right)\n",
    "$$\n",
    "\n",
    "Autrement dit la variable aléatoire $Z$ sachant $V=v$ suit une gaussienne d'espérance :\n",
    "\n",
    "$$\n",
    "m_{Z | V=v}=\\psi(v)=m_{Z}+C_{Z, V} C_{V}^{-1}\\left(v-m_{V}\\right)\n",
    "$$\n",
    "\n",
    "\n",
    "et de matrice de covariance : \n",
    "$$\n",
    "C S_{Z}=C_{Z}-C_{Z, V} C_{V}^{-1} C_{V, Z}\n",
    "$$\n",
    "\n",
    "\n",
    "##### 3.\n",
    "Si Y est un vecteur de composantes gausiennes toutes indépendantes, toutes d'espérance nulle et de variance 1, alors d'après le cours (proba V)\n",
    "le vecteur Z = m + RY est également un vecteur gaussien, d'espérence m et de matrice de Covariance R. \n",
    "\n",
    "\n",
    "##### 4. \n",
    "Nous allons simuler notre expérience en 3 étapes :\n",
    "Dans un premier nous générons U, une variable aléatoire suivant une loi uniforme sur ]0, 1].\n",
    "Puis grâce à la formule du cours, en posant $x_i=\\sqrt{-2ln(U)}cos(2\\pi U)$ on obtient X une variable aléatoire suivant une loi normale centrée réduite. (On répète cette opération n-p fois pour obtenir un vecteur de dimension n-p des gaussiennes). $X=\\begin{pmatrix} ...\\\\ x_i \\\\ ... \\end{pmatrix}$ \n",
    "Finalement en posant $Z = m + LX$ avec m l'espérence conditonnelle de Z sachant X, et L la décomposotion de Cholesky de la matrice de covariance conditionelle."
   ]
  },
  {
   "cell_type": "markdown",
   "metadata": {},
   "source": [
    "# Données du problème\n",
    "Conventionnellement, $A$ est l'origine, $B=500$, $N=100$.\n",
    "\n",
    "Les données $$\\begin{array}{c|r}i & z(x_i)\\\\\n",
    "\\hline\n",
    "0 & 0\\\\\n",
    "20 & -4\\\\\n",
    "40 & -12.8\\\\\n",
    "60 & -1\\\\\n",
    "80 & -6.5\\\\\n",
    "100 & 0\\end{array}$$\n",
    "\n",
    "L'espérance de chaque composante du vecteur aléatoire $\\mathbf{Z}$ est donnée par $\\mu=-5.$\n",
    "\n",
    "La fonction $C$ est définie par $$C(h)=\\sigma^2 e^{-|h|/a},$$\n",
    "\n",
    "où $|h|$ correspond à la distance entre deux points, $a=50$ et $\\sigma^2=12$.\n"
   ]
  },
  {
   "cell_type": "markdown",
   "metadata": {},
   "source": [
    "# Implémentation"
   ]
  },
  {
   "cell_type": "markdown",
   "metadata": {},
   "source": [
    "## Préambule"
   ]
  },
  {
   "cell_type": "code",
   "execution_count": null,
   "metadata": {},
   "outputs": [],
   "source": [
    "#Chargement de dépendances\n",
    "\n",
    "import numpy as np\n",
    "import matplotlib.pyplot as plt\n",
    "from numpy.linalg import inv, cholesky\n",
    "\n",
    "#Discrétisation\n",
    "A=0\n",
    "B=500\n",
    "N=101 #Nombre de points de discrétisation\n",
    "Delta = (B-A)/(N-1)\n",
    "discretization_indexes = np.arange(N)\n",
    "discretization = discretization_indexes*Delta\n",
    "#Paramètres du modèle\n",
    "\n",
    "mu=-5\n",
    "a = 50\n",
    "sigma2 = 12\n",
    "\n",
    "#Données\n",
    "\n",
    "obs_ind = [0,20,40,60,80,100]\n",
    "depth = np.array([0,-4,-12.8,-1,-6.5,0])\n",
    "\n",
    "#Indices des composantes correspondant aux observations et aux componsantes non observées\n",
    "\n",
    "unk_ind=list(set(discretization_indexes)-set(obs_ind))\n"
   ]
  },
  {
   "cell_type": "markdown",
   "metadata": {},
   "source": [
    "## Questions\n",
    "\n",
    "1. Ecrire une fonction qui prend en argument la distance entre les points, le paramètre $a$, et le paramètre $\\sigma^2$, et qui retourne la covariance entre deux points.\n",
    "On pourra fournir une matrice de distance à cette fonction. Dans ce cas, la fonction renverra la matrice de covariance."
   ]
  },
  {
   "cell_type": "code",
   "execution_count": null,
   "metadata": {},
   "outputs": [],
   "source": [
    "def C(h, var, a):\n",
    "    return var*np.exp(-h/a)\n",
    "\n",
    "#On vectorise la fonction pour s'assurer le bon fonctionnement avec les matrices\n",
    "C = np.vectorize(C)"
   ]
  },
  {
   "cell_type": "markdown",
   "metadata": {},
   "source": [
    "2. Calculer la matrice de distance."
   ]
  },
  {
   "cell_type": "code",
   "execution_count": null,
   "metadata": {},
   "outputs": [],
   "source": [
    "def matrice_distance(N, Delta):\n",
    "    res = np.zeros((N, N))\n",
    "    for i in range(N):\n",
    "        for j in range(i):\n",
    "            rij = Delta * (i-j)\n",
    "            res[i,j] = rij\n",
    "            res[j,i] = rij\n",
    "    return res"
   ]
  },
  {
   "cell_type": "markdown",
   "metadata": {},
   "source": [
    "3. Calculer la matrice de covariance du vecteur $\\mathbf{Z}=(Z(x_0),\\dots,Z(x_N))$."
   ]
  },
  {
   "cell_type": "code",
   "execution_count": null,
   "metadata": {},
   "outputs": [],
   "source": [
    "CZ = C(matrice_distance(N, Delta), sigma2, a)\n",
    "print(CZ)"
   ]
  },
  {
   "cell_type": "markdown",
   "metadata": {},
   "source": [
    "4. Extraire les 3 matrices de covariance suivantes :\n",
    "\n",
    " * entre les observations\n",
    "\n",
    " * entre les observations et les inconnues\n",
    "\n",
    " * entre les inconnues\n"
   ]
  },
  {
   "cell_type": "code",
   "execution_count": null,
   "metadata": {},
   "outputs": [],
   "source": [
    "Cobs = np.array([[ CZ[i][j] for j in obs_ind] for i in obs_ind])\n",
    "Cboth = np.array([[ CZ[i][j] for i in obs_ind] for j in unk_ind])\n",
    "Cunk = np.array([[ CZ[i][j] for j in unk_ind] for i in unk_ind])\n",
    "\n",
    "print(Cobs)\n",
    "print(Cboth)\n",
    "print(Cunk)"
   ]
  },
  {
   "cell_type": "markdown",
   "metadata": {},
   "source": [
    "5. Calculer l'espérance conditionnelle des composantes non observées connaissant les observations et la représenter avec les données."
   ]
  },
  {
   "cell_type": "code",
   "execution_count": null,
   "metadata": {},
   "outputs": [],
   "source": [
    "fig, ax = plt.subplots()\n",
    "\n",
    "InvCobs = inv(Cobs)\n",
    "m_v = [-5]*len(obs_ind)\n",
    "m_z = [-5]*len(unk_ind)\n",
    "\n",
    "CondEsp = m_z + np.dot((Cboth @ InvCobs), depth - m_v)\n",
    "\n",
    "ax.scatter(unk_ind, CondEsp)\n",
    "ax.scatter(obs_ind, depth)\n",
    "ax.set_title(\"Esperance conditionelle en fonction de la position :\")"
   ]
  },
  {
   "cell_type": "markdown",
   "metadata": {},
   "source": [
    "6. Calculer la matrice de variance conditionnelle et tracer sa diagonale (variance conditionnelle) en fonction de la position. Commenter."
   ]
  },
  {
   "cell_type": "code",
   "execution_count": null,
   "metadata": {},
   "outputs": [],
   "source": [
    "fig, ax = plt.subplots()\n",
    "\n",
    "MatVC = Cunk - (Cboth @ InvCobs) @ Cboth.T\n",
    "diag = np.diag(MatVC)\n",
    " \n",
    "VarCond = [(0 if i%20 == 0 else diag[i - (i//20 + 1)]) for i in range (101)]\n",
    "\n",
    "ax.plot(VarCond)\n",
    "ax.set_title(\"Variance conditionelle en fonction de la position :\")"
   ]
  },
  {
   "cell_type": "markdown",
   "metadata": {},
   "source": [
    "On remarque donc que plus on s'éloigne des points d'observations, moins l'estimation est précise. C'est un résultat attendu."
   ]
  },
  {
   "cell_type": "markdown",
   "metadata": {},
   "source": [
    "7. Effectuer une simulation conditionnelle. Sur un même graphique, tracer la simulation ainsi que les données et l'espérance conditionnelle. Commenter."
   ]
  },
  {
   "cell_type": "code",
   "execution_count": null,
   "metadata": {},
   "outputs": [],
   "source": [
    "def simulation():\n",
    "    y = np.random.randn(95)\n",
    "    R = cholesky(MatVC)\n",
    "    Z = CondEsp + np.dot(R,y)\n",
    "    for i in range(6):\n",
    "        Z = np.insert(Z,obs_ind[i],depth[i])\n",
    "    return Z\n",
    "\n",
    "sim = simulation()\n",
    "fig, ax = plt.subplots()\n",
    "ax.plot(sim)\n",
    "ax.scatter(obs_ind, depth)\n",
    "ax.plot(unk_ind, CondEsp)\n",
    "ax.set_title(\"Profondeur en fonction de la position :\")\n",
    "ax.legend([\"Simulation\", \"Esperance Conditionelle\", \"Valeurs Connues\"])"
   ]
  },
  {
   "cell_type": "markdown",
   "metadata": {},
   "source": [
    "La simulation reste proche du de l'ésperance, nous avons donc bien réalisé un conditionnement."
   ]
  },
  {
   "cell_type": "markdown",
   "metadata": {},
   "source": [
    "8. Ecrire une fonction qui calcule la longueur du câble en fonction du vecteur des profondeurs et du pas de discrétisation."
   ]
  },
  {
   "cell_type": "code",
   "execution_count": null,
   "metadata": {},
   "outputs": [],
   "source": [
    "def length(depth, dx):\n",
    "    res = 0\n",
    "    for i in range(len(depth)-1):\n",
    "        res += np.sqrt((depth[i+1]-depth[i])**2+dx**2)\n",
    "    return res"
   ]
  },
  {
   "cell_type": "markdown",
   "metadata": {},
   "source": [
    "9. Utiliser cette fonction pour calculer la longueur du câble à partir de 100 simulations. Comparer l'espérance conditionnelle (estimée) de la longueur avec la longueur de l'espérance conditionnelle."
   ]
  },
  {
   "cell_type": "code",
   "execution_count": null,
   "metadata": {},
   "outputs": [],
   "source": [
    "def lenBySim(n):\n",
    "    Len = []\n",
    "    for i in range(n) :\n",
    "        Z = simulation()\n",
    "        Len.append(length(Z, Delta))\n",
    "    return Len\n",
    "\n",
    "n = 100 \n",
    "Lens = lenBySim(n)\n",
    "lenSim = np.mean(Lens)\n",
    "print(\"Apres {:} simulations, nous obtenons une estimation de la longueur du cable de {:3n}m.\".format(n, lenSim))"
   ]
  },
  {
   "cell_type": "markdown",
   "metadata": {},
   "source": [
    "10. Représenter la suite $M_n$ des moyennes des longueurs de câbles en fonction du nombre de simulations. Commenter."
   ]
  },
  {
   "cell_type": "code",
   "execution_count": null,
   "metadata": {},
   "outputs": [],
   "source": [
    "nbSim = list(range(1,101))\n",
    "lenMean = []\n",
    "for n in nbSim:\n",
    "    lenMean.append(np.mean(lenBySim(n)))\n",
    "    \n",
    "print(lenMean)\n",
    "fig, ax = plt.subplots()\n",
    "ax.plot(nbSim, lenMean)\n",
    "ax.set_title(\"Moyenne des longueurs de cable en fonction du nombre de simulations :\")"
   ]
  },
  {
   "cell_type": "markdown",
   "metadata": {},
   "source": [
    "Une simulation étant une variable aléatoire, il etait prévisible de voir les moyennes des longueurs converger vers une valeur apres de nombreuses simulations : ici 522.3m. C'est donc l'espérance donné par notre simulation."
   ]
  },
  {
   "cell_type": "markdown",
   "metadata": {},
   "source": [
    "11. Représenter l'histogramme des longueurs de câbles générées."
   ]
  },
  {
   "cell_type": "code",
   "execution_count": null,
   "metadata": {},
   "outputs": [],
   "source": [
    "Lens = lenBySim(100)\n",
    "\n",
    "fig, ax = plt.subplots()\n",
    "ax.hist(Lens)\n",
    "ax.set_title(\"Hisogramme des longueurs données par simulations :\")"
   ]
  },
  {
   "cell_type": "markdown",
   "metadata": {},
   "source": [
    "12. Donner un intervalle de confiance à 95% de la longueur du câble par 2 méthodes différentes. Commenter."
   ]
  },
  {
   "cell_type": "code",
   "execution_count": null,
   "metadata": {},
   "outputs": [],
   "source": [
    "#Première methode : Prendre la moyenne puis l'ecart type, les bornes de l'intervalle sont cette première plus ou moins 2 fois l'ecart type\n",
    "#Deuxieme methode : On prend 95% des valeurs, si le nombre de simulations est assez grand\n",
    "\n",
    "Lens = sorted(Lens)\n",
    "\n",
    "print(\"Premier intervalle de confiance : [{},{}]\".format(np.mean(Lens)-2*np.std(Lens), np.mean(Lens)+2*np.std(Lens)))\n",
    "print(\"Premier intervalle de confiance : [{},{}]\".format(Lens[2],Lens[-3]))"
   ]
  },
  {
   "cell_type": "markdown",
   "metadata": {},
   "source": [
    "13. Donner une estimation de la probabilité que la longueur du câble dépasse 525 m."
   ]
  },
  {
   "cell_type": "code",
   "execution_count": null,
   "metadata": {},
   "outputs": [],
   "source": [
    "Lens = lenBySim(100)\n",
    "Lens = np.array(sorted(Lens))\n",
    "print(\"Un estimation de la probabilite que la longueur du cable dépasse 525m est : {}.\".format(np.argwhere(Lens >= 525).size/1000))"
   ]
  },
  {
   "cell_type": "markdown",
   "metadata": {},
   "source": [
    "14. Reprendre les questions précédentes avec 1000, 10000 puis 100000 simulations. Commenter."
   ]
  },
  {
   "cell_type": "code",
   "execution_count": null,
   "metadata": {},
   "outputs": [],
   "source": [
    "for n in [1000, 10000, 100000]:\n",
    "    print(f\"\\tPour {n} simulations :\")\n",
    "    Lens = lenBySim(n)\n",
    "    Lens = np.array(sorted(Lens))\n",
    "    lenSim = np.mean(Lens)\n",
    "    print(\"Apres {:} simulations, nous obtenons une estimation de la longueur du cable de {:3n}m.\".format(n, lenSim))\n",
    "    fig, ax = plt.subplots()\n",
    "    ax.hist(Lens)\n",
    "    ax.set_title(f\"Hisogramme des longueurs données par simulations :\")\n",
    "    print(\"Premier intervalle de confiance : [{},{}]\".format(np.mean(Lens)-2*np.std(Lens), np.mean(Lens)+2*np.std(Lens)))\n",
    "    print(\"Premier intervalle de confiance : [{},{}]\".format(Lens[2],Lens[-3]))\n",
    "    print(\"Un estimation de la probabilite que la longueur du cable dépasse 525m est : {}.\\n\".format(np.argwhere(Lens >= 525).size/n))"
   ]
  },
  {
   "cell_type": "markdown",
   "metadata": {},
   "source": [
    "### Conclusion\n",
    "On remarque qu'augmenter grandement le nombre de simulations n'est pas nécessaire. La précision est suffisament grande avec peu de simulations et elle ne s'améliore pas tant que ca avec le nombre."
   ]
  },
  {
   "cell_type": "code",
   "execution_count": null,
   "metadata": {},
   "outputs": [],
   "source": []
  }
 ],
 "metadata": {
  "@webio": {
   "lastCommId": "5ceb69a5bbd14071b254c2439a58ac4b",
   "lastKernelId": "0e923419-c540-42c1-ab5f-d0e05ff4521c"
  },
  "kernelspec": {
   "display_name": "Python 3",
   "language": "python",
   "name": "python3"
  },
  "language_info": {
   "codemirror_mode": {
    "name": "ipython",
    "version": 3
   },
   "file_extension": ".py",
   "mimetype": "text/x-python",
   "name": "python",
   "nbconvert_exporter": "python",
   "pygments_lexer": "ipython3",
   "version": "3.7.3"
  }
 },
 "nbformat": 4,
 "nbformat_minor": 2
}
